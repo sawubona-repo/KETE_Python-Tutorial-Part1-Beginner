{
  "nbformat": 4,
  "nbformat_minor": 0,
  "metadata": {
    "colab": {
      "provenance": []
    },
    "kernelspec": {
      "name": "python3",
      "display_name": "Python 3"
    },
    "language_info": {
      "name": "python"
    }
  },
  "cells": [
    {
      "cell_type": "code",
      "source": [
        "def location(country): # Rename the function so that it has a sensible name.\n",
        "  print(\"I am from \" + country)"
      ],
      "metadata": {
        "id": "eIw-GFeWGndD"
      },
      "execution_count": 15,
      "outputs": []
    },
    {
      "cell_type": "code",
      "source": [
        "location(\"Brazil\") # Don't forget to rename it when it is called.\n",
        "\n",
        "location(\"Sweden\") # Call the function with the argument 'Sweden'"
      ],
      "metadata": {
        "colab": {
          "base_uri": "https://localhost:8080/"
        },
        "id": "-wUffEcfGrTw",
        "outputId": "ac00d939-c23e-4f8d-d92d-893b63a3b793"
      },
      "execution_count": 16,
      "outputs": [
        {
          "output_type": "stream",
          "name": "stdout",
          "text": [
            "I am from Brazil\n",
            "I am from Sweden\n"
          ]
        }
      ]
    },
    {
      "cell_type": "code",
      "source": [
        "# Get the user to input a country. Store it in a variable. Call the function with the variable as the argument.\n",
        "\n",
        "country = input(\"Where are you from?\")\n",
        "location(country)"
      ],
      "metadata": {
        "id": "F7v5qDtfGtrD"
      },
      "execution_count": null,
      "outputs": []
    }
  ]
}